{
 "cells": [
  {
   "cell_type": "code",
   "execution_count": 3,
   "metadata": {},
   "outputs": [],
   "source": [
    "import h5py\n",
    "import numpy as np\n",
    "import matplotlib.pyplot as plt\n",
    "\n",
    "FILE_PATH = \"../AutoBots/h5_files/test_dataset.hdf5\"\n",
    "\n",
    "hd5_file = h5py.File(FILE_PATH, \"r\")"
   ]
  },
  {
   "cell_type": "code",
   "execution_count": 4,
   "metadata": {},
   "outputs": [
    {
     "name": "stdout",
     "output_type": "stream",
     "text": [
      "['agents_trajectories', 'ego_trajectories', 'extras', 'orig_egos', 'road_pts']\n",
      "KEY: agents_trajectories\n",
      "(78143, 20, 15, 3)\n",
      "float32\n",
      "KEY: ego_trajectories\n",
      "(78143, 20, 3)\n",
      "float32\n",
      "KEY: extras\n",
      "(78143, 4)\n",
      "float32\n",
      "KEY: orig_egos\n",
      "(78143, 20, 3)\n",
      "float32\n",
      "KEY: road_pts\n",
      "(78143, 150, 10, 3)\n",
      "float16\n"
     ]
    }
   ],
   "source": [
    "print(list(hd5_file.keys()))\n",
    "for key in hd5_file:\n",
    "    print(f\"KEY: {key}\")\n",
    "    print(hd5_file[key].shape)\n",
    "    print(hd5_file[key].dtype)"
   ]
  },
  {
   "cell_type": "code",
   "execution_count": 9,
   "metadata": {},
   "outputs": [
    {
     "name": "stdout",
     "output_type": "stream",
     "text": [
      "1 52\n",
      "12 69\n",
      "8 41\n",
      "2 37\n",
      "15 71\n",
      "10 66\n",
      "8 48\n",
      "12 76\n",
      "10 37\n",
      "5 39\n"
     ]
    }
   ],
   "source": [
    "start = 0\n",
    "duration = 10\n",
    "# duration = hd5_file[\"ego_trajectories\"].shape[0]//10\n",
    "for t in range(start, start + duration):\n",
    "    # print(t)\n",
    "    #plot road points in black\n",
    "    road_pts = np.array(hd5_file[\"road_pts\"][t])\n",
    "    segments = 0\n",
    "    for segment_pts in np.rollaxis(road_pts, 0):\n",
    "        if np.all(np.abs(segment_pts) < 1e-6):\n",
    "            continue\n",
    "        segments += 1\n",
    "        X, Y, Z = segment_pts.T\n",
    "        # plt.plot(X, Y)\n",
    "    #plot agent trajectories\n",
    "    agent_count = 0\n",
    "    agent_trajectories = hd5_file[\"agents_trajectories\"][t]\n",
    "    for agent_trajectory in np.rollaxis(agent_trajectories, 1):\n",
    "        if np.all(np.abs(agent_trajectory) < 1e-6):\n",
    "            continue\n",
    "        mask = np.logical_not(np.logical_and.reduce(np.abs(agent_trajectory) < 1e-6, 1))\n",
    "        X, Y, Z = agent_trajectory[mask].T\n",
    "        # plt.plot(X, Y)\n",
    "        agent_count += 1\n",
    "        # print(agent_trajectory)\n",
    "    print(agent_count, segments)\n",
    "\n",
    "\n",
    "    # #plot the ego vehicle trajectory\n",
    "    # # ego_trajectory = np.array(hd5_file[\"orig_egos\"][t])\n",
    "    # # X, Y, Z = ego_trajectory.T\n",
    "    # # plt.plot(X, Y, \"r\")\n",
    "    # ego_trajectory = np.array(hd5_file[\"ego_trajectories\"][t])\n",
    "    # X, Y, Z = ego_trajectory.T\n",
    "    # plt.plot(X, Y, \"b\")\n",
    "\n",
    "    # plt.xlim()"
   ]
  }
 ],
 "metadata": {
  "kernelspec": {
   "display_name": "AutoBots",
   "language": "python",
   "name": "python3"
  },
  "language_info": {
   "codemirror_mode": {
    "name": "ipython",
    "version": 3
   },
   "file_extension": ".py",
   "mimetype": "text/x-python",
   "name": "python",
   "nbconvert_exporter": "python",
   "pygments_lexer": "ipython3",
   "version": "3.7.12"
  }
 },
 "nbformat": 4,
 "nbformat_minor": 2
}
