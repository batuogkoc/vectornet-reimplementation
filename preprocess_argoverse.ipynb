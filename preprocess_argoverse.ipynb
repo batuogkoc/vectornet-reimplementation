{
 "cells": [
  {
   "cell_type": "code",
   "execution_count": 4,
   "metadata": {},
   "outputs": [
    {
     "name": "stderr",
     "output_type": "stream",
     "text": [
      "/home/batu/anaconda3/envs/AutoBots/lib/python3.7/site-packages/tqdm/auto.py:21: TqdmWarning: IProgress not found. Please update jupyter and ipywidgets. See https://ipywidgets.readthedocs.io/en/stable/user_install.html\n",
      "  from .autonotebook import tqdm as notebook_tqdm\n"
     ]
    }
   ],
   "source": [
    "import h5py\n",
    "import numpy as np\n",
    "import matplotlib.pyplot as plt\n",
    "\n",
    "import torch\n",
    "from torch.utils.data import Dataset, DataLoader\n",
    "import torch.nn as nn\n",
    "import torch.nn.functional as F\n",
    "import torchvision.datasets\n",
    "import torchvision.transforms as transforms\n",
    "\n",
    "FILE_PATH = \"../AutoBots/h5_files/test_dataset.hdf5\"\n",
    "\n",
    "hd5_file = h5py.File(FILE_PATH, \"r\")"
   ]
  },
  {
   "cell_type": "code",
   "execution_count": 5,
   "metadata": {},
   "outputs": [
    {
     "name": "stdout",
     "output_type": "stream",
     "text": [
      "['agents_trajectories', 'ego_trajectories', 'extras', 'orig_egos', 'road_pts']\n",
      "KEY: agents_trajectories\n",
      "(78143, 20, 15, 3)\n",
      "float32\n",
      "KEY: ego_trajectories\n",
      "(78143, 20, 3)\n",
      "float32\n",
      "KEY: extras\n",
      "(78143, 4)\n",
      "float32\n",
      "KEY: orig_egos\n",
      "(78143, 20, 3)\n",
      "float32\n",
      "KEY: road_pts\n",
      "(78143, 150, 10, 3)\n",
      "float16\n"
     ]
    }
   ],
   "source": [
    "print(list(hd5_file.keys()))\n",
    "for key in hd5_file:\n",
    "    print(f\"KEY: {key}\")\n",
    "    print(hd5_file[key].shape)\n",
    "    print(hd5_file[key].dtype)"
   ]
  },
  {
   "cell_type": "code",
   "execution_count": 14,
   "metadata": {},
   "outputs": [
    {
     "name": "stdout",
     "output_type": "stream",
     "text": [
      "torch.Size([1000, 150, 10, 3])\n"
     ]
    }
   ],
   "source": [
    "start = 0\n",
    "duration = 1000\n",
    "#N X 150 X 10 X 3\n",
    "road_pts = torch.Tensor(hd5_file[\"road_pts\"][start:start+duration])\n",
    "\n",
    "start_pts = road_pts[:,:,1:,:]\n",
    "end_pts = road_pts[:,:,:-1,:]\n",
    "print(start_pts.shape)\n",
    "print(end_pts.shape)\n",
    "\n",
    "# for t in range(start, start + duration):\n",
    "#     # print(t)\n",
    "#     #plot road points in black\n",
    "#     road_pts = np.array(hd5_file[\"road_pts\"][t])\n",
    "#     segments = 0\n",
    "#     for segment_pts in np.rollaxis(road_pts, 0):\n",
    "#         if np.all(np.abs(segment_pts) < 1e-6):\n",
    "#             continue\n",
    "#         segments += 1\n",
    "#         X, Y, Z = segment_pts.T\n",
    "#         # plt.plot(X, Y)\n",
    "#     print(segments, road_pts.shape[0])"
   ]
  }
 ],
 "metadata": {
  "kernelspec": {
   "display_name": "AutoBots",
   "language": "python",
   "name": "python3"
  },
  "language_info": {
   "codemirror_mode": {
    "name": "ipython",
    "version": 3
   },
   "file_extension": ".py",
   "mimetype": "text/x-python",
   "name": "python",
   "nbconvert_exporter": "python",
   "pygments_lexer": "ipython3",
   "version": "3.7.12"
  }
 },
 "nbformat": 4,
 "nbformat_minor": 2
}
